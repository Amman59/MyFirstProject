{
 "cells": [
  {
   "cell_type": "code",
   "execution_count": null,
   "metadata": {},
   "outputs": [],
   "source": [
    "print('Hello World')"
   ]
  },
  {
   "cell_type": "code",
   "execution_count": null,
   "metadata": {},
   "outputs": [],
   "source": [
    "a=5\n",
    "b=7\n",
    "print(a+b)"
   ]
  },
  {
   "cell_type": "code",
   "execution_count": 1,
   "metadata": {},
   "outputs": [
    {
     "name": "stdout",
     "output_type": "stream",
     "text": [
      "The Sorted array is :\n",
      " 1  2  3  4  5 "
     ]
    }
   ],
   "source": [
    "\n",
    "def BubbleSort(C):\n",
    "    n= len(C)\n",
    "    swapped = False\n",
    "    for i in range(n-1):\n",
    "        for j in range(0,n-i-1):\n",
    "            if C[j]>C[j+1]:\n",
    "                swapped = True\n",
    "                C[j],C[j + 1] = C[j + 1],C[j]\n",
    "         #if not swapped:\n",
    "        return\n",
    "E= (1,2,4,3,5)\n",
    "C=list(E)\n",
    "BubbleSort(C)\n",
    "\n",
    "print('The Sorted array is :')  \n",
    "for i in range(len(C)):\n",
    "    print(\"% d\" % C[i], end=\" \")\n",
    "\n",
    "\n"
   ]
  },
  {
   "cell_type": "code",
   "execution_count": 24,
   "metadata": {},
   "outputs": [
    {
     "name": "stdout",
     "output_type": "stream",
     "text": [
      "Element found at index 3 !\n",
      "Array is [ 6  9  5  4  2  6  4 10  7  1  3]\n",
      "the length of the array is 11\n",
      "random number is 4\n"
     ]
    },
    {
     "name": "stderr",
     "output_type": "stream",
     "text": [
      "/tmp/ipykernel_20278/2077014570.py:11: DeprecationWarning: This function is deprecated. Please call randint(1, 10 + 1) instead\n",
      "  Array = np.random.random_integers(1,10,size=np.random.randint(1,15))\n"
     ]
    }
   ],
   "source": [
    "import random\n",
    "import numpy as np\n",
    "def LinearSearch(Array, n, x):\n",
    "    for i in range (0, n):\n",
    "        if (Array[i] == x):\n",
    "            return i \n",
    "    return -1\n",
    "#print('input array!')\n",
    "#Array = input('type an array with commas')\n",
    "#Array = (1,2,3,4,5 )\n",
    "Array = np.random.random_integers(1,10,size=np.random.randint(1,15))\n",
    "x = random.randint(1,10 + 1)\n",
    "n=len(Array)\n",
    "result = LinearSearch(Array,n,x)\n",
    "if(result == -1):\n",
    "    print('Element not found!')\n",
    "else:\n",
    "    print('Element found at index',result,'!')\n",
    "\n",
    "print('Array is', Array)\n",
    "print('the length of the array is',n)\n",
    "print('random number is',x )"
   ]
  }
 ],
 "metadata": {
  "kernelspec": {
   "display_name": "Python 3",
   "language": "python",
   "name": "python3"
  },
  "language_info": {
   "codemirror_mode": {
    "name": "ipython",
    "version": 3
   },
   "file_extension": ".py",
   "mimetype": "text/x-python",
   "name": "python",
   "nbconvert_exporter": "python",
   "pygments_lexer": "ipython3",
   "version": "3.10.13"
  }
 },
 "nbformat": 4,
 "nbformat_minor": 2
}

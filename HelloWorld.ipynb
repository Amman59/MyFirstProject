{
 "cells": [
  {
   "cell_type": "code",
   "execution_count": 1,
   "metadata": {},
   "outputs": [
    {
     "name": "stdout",
     "output_type": "stream",
     "text": [
      "Hello World\n"
     ]
    }
   ],
   "source": [
    "print('Hello World')"
   ]
  },
  {
   "cell_type": "code",
   "execution_count": 2,
   "metadata": {},
   "outputs": [
    {
     "name": "stdout",
     "output_type": "stream",
     "text": [
      "12\n"
     ]
    }
   ],
   "source": [
    "a=5\n",
    "b=7\n",
    "print(a+b)"
   ]
  },
  {
   "cell_type": "code",
   "execution_count": 40,
   "metadata": {},
   "outputs": [
    {
     "name": "stdout",
     "output_type": "stream",
     "text": [
      "The Sorted array is :\n",
      " 1  2  3  4  5 "
     ]
    }
   ],
   "source": [
    "\n",
    "def BubbleSort(C):\n",
    "    n= len(C)\n",
    "    swapped = False\n",
    "    for i in range(n-1):\n",
    "        for j in range(0,n-i-1):\n",
    "            if C[j]>C[j+1]:\n",
    "                swapped = True\n",
    "                C[j],C[j + 1] = C[j + 1],C[j]\n",
    "         #if not swapped:\n",
    "        return\n",
    "E= (1,2,4,3,5)\n",
    "C=list(E)\n",
    "BubbleSort(C)\n",
    "\n",
    "print('The Sorted array is :')  \n",
    "for i in range(len(C)):\n",
    "    print(\"% d\" % C[i], end=\" \")\n",
    "\n",
    "\n"
   ]
  }
 ],
 "metadata": {
  "kernelspec": {
   "display_name": "Python 3",
   "language": "python",
   "name": "python3"
  },
  "language_info": {
   "codemirror_mode": {
    "name": "ipython",
    "version": 3
   },
   "file_extension": ".py",
   "mimetype": "text/x-python",
   "name": "python",
   "nbconvert_exporter": "python",
   "pygments_lexer": "ipython3",
   "version": "3.10.13"
  }
 },
 "nbformat": 4,
 "nbformat_minor": 2
}
